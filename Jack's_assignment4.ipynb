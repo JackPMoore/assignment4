{
  "cells": [
    {
      "cell_type": "markdown",
      "id": "e0c7b14a-e5aa-4abc-b48b-b8a9d20dacac",
      "metadata": {
        "id": "e0c7b14a-e5aa-4abc-b48b-b8a9d20dacac"
      },
      "source": [
        "# Assignment #4: Linear Models and Decision Trees\n",
        "## Foundations of Machine Learning\n",
        "## Do Q1 and one other question.\n",
        "### Advice: Reuse your code and code from lectures, package routine tasks into functions, make plans about how you'll carry out the analysis before jumping into writing code, and work as efficiently as possible"
      ]
    },
    {
      "cell_type": "code",
      "source": [
        "! git clone https://github.com/DS3001/assignment4"
      ],
      "metadata": {
        "colab": {
          "base_uri": "https://localhost:8080/"
        },
        "id": "n0_IowYRJImX",
        "outputId": "d7a638e8-3d57-4a2c-e839-69f900728422"
      },
      "id": "n0_IowYRJImX",
      "execution_count": 2,
      "outputs": [
        {
          "output_type": "stream",
          "name": "stdout",
          "text": [
            "Cloning into 'assignment4'...\n",
            "remote: Enumerating objects: 11, done.\u001b[K\n",
            "remote: Counting objects: 100% (5/5), done.\u001b[K\n",
            "remote: Compressing objects: 100% (5/5), done.\u001b[K\n",
            "remote: Total 11 (delta 0), reused 0 (delta 0), pack-reused 6\u001b[K\n",
            "Receiving objects: 100% (11/11), 722.65 KiB | 2.20 MiB/s, done.\n"
          ]
        }
      ]
    },
    {
      "cell_type": "code",
      "source": [
        "import numpy as np\n",
        "import pandas as pd\n",
        "import matplotlib.pyplot as plt\n",
        "import seaborn as sns\n",
        "from sklearn.neighbors import KNeighborsRegressor as kNNRegression"
      ],
      "metadata": {
        "id": "RLhX6hVLIVl2"
      },
      "id": "RLhX6hVLIVl2",
      "execution_count": 3,
      "outputs": []
    },
    {
      "cell_type": "markdown",
      "id": "95f22300-0180-4ed2-be8f-ed56cf4cd36b",
      "metadata": {
        "id": "95f22300-0180-4ed2-be8f-ed56cf4cd36b"
      },
      "source": [
        "**Q1.** This question is a case study for linear models and decision trees. The data are about car prices. In particular, they include:\n",
        "\n",
        "  - `Price`, `Color`, `Seating_Capacity`\n",
        "  - `Body_Type`: crossover, hatchback, muv, sedan, suv\n",
        "  - `Make`, `Make_Year`: The brand of car and year produced\n",
        "  - `Mileage_Run`: The number of miles on the odometer\n",
        "  - `Fuel_Type`: Diesel or gasoline/petrol\n",
        "  - `Transmission`, `Transmission_Type`:  speeds and automatic/manual\n",
        "\n",
        "  1. Load `cars_hw.csv`. These data were really dirty, and I've already cleaned them a significant amount in terms of missing values and other issues, but some issues remain (e.g. outliers, badly scaled variables that require a log or arcsinh transformation). Clean the data however you think is most appropriate.\n",
        "  2. Summarize the `Price` variable and create a kernel density plot. Use `.groupby()` and `.describe()` to summarize prices by brand (`Make`). Make a grouped kernel density plot by `Make`. Which car brands are the most expensive? What do prices look like in general?\n",
        "  3. Split the data into an 80% training set and a 20% testing set.\n",
        "  4. Let's focus on linear models. Make a model where you regress price on the numeric variables alone; what is the $R^2$ and `RMSE` on the test set? Make a second model where, for the categorical variables, make a model comprised of one-hot encoded regressors/features alone, and regress price on those variables; what is the $R^2$ and `RMSE` on the test set? Which model performs better on the test set? Make a third model that combines all the regressors from the previous two; what is the $R^2$ and `RMSE` on the test set? Does the joint model perform better or worse, and by home much?\n",
        "  5. Use the `PolynomialFeatures` function from `sklearn` to expand the set of numerical variables you're using, along with the categorical variables. As you increase the degree of the expansion, how do the $R^2$ and `RMSE` change? At what point does $R^2$ go negative on the test set? For your best model with expanded features, what is the $R^2$ and `RMSE`? How does it compare to your best model from part 3?\n",
        "  6. For your best model so far, determine the predicted values for the test data and plot them against the true values. Do the predicted values and true values roughly line up along the diagonal, or not? Compute the residuals/errors for the test data and create a kernel density plot. Do the residuals look roughly bell-shaped around zero? Evaluate the strengths and weaknesses of your model.\n",
        "  7. Now, let's use a regression tree. Construct an appropriate matrix of regressors/features, and fit a tree to the data. Vary the maximum depth of the decision tree using the `max_depth` option (i.e. `tree.DecisionTreeRegressor(max_depth=D)`), and compute the $R^2$ and `RMSE` on the test set of a variety of depths. What depth tree gives the best results?\n",
        "  8. For your best tree, determine the predicted values for the test data, and plot them against the true values. Do the predicted values and true values line up along the diagonal, or not? Compute the residuals/errors for the test data and create a kernel density plot. Do the residuals look roughly bell-shaped around zero?\n",
        "  12. Which model --- linear model or classification and regression tree --- has better performance on the test set?"
      ]
    },
    {
      "cell_type": "markdown",
      "source": [
        "**Question 1.1**"
      ],
      "metadata": {
        "id": "LKIWmCIwIatJ"
      },
      "id": "LKIWmCIwIatJ"
    },
    {
      "cell_type": "code",
      "source": [
        "cars = pd.read_csv(\"assignment4/data/cars_hw.csv\")"
      ],
      "metadata": {
        "id": "qaVLznNYIcSn"
      },
      "id": "qaVLznNYIcSn",
      "execution_count": 4,
      "outputs": []
    },
    {
      "cell_type": "code",
      "source": [
        "print(cars.columns)"
      ],
      "metadata": {
        "id": "3__AKm9MIjMn",
        "outputId": "05a327ef-4879-4b30-a614-627febbc0d50",
        "colab": {
          "base_uri": "https://localhost:8080/"
        }
      },
      "id": "3__AKm9MIjMn",
      "execution_count": 5,
      "outputs": [
        {
          "output_type": "stream",
          "name": "stdout",
          "text": [
            "Index(['Unnamed: 0', 'Make', 'Make_Year', 'Color', 'Body_Type', 'Mileage_Run',\n",
            "       'No_of_Owners', 'Seating_Capacity', 'Fuel_Type', 'Transmission',\n",
            "       'Transmission_Type', 'Price'],\n",
            "      dtype='object')\n"
          ]
        }
      ]
    },
    {
      "cell_type": "code",
      "source": [
        "cars.isna().sum().sum()"
      ],
      "metadata": {
        "id": "SekgxnIxIzf3",
        "outputId": "88c212a1-f4b5-426b-c60f-ff5b2f811af1",
        "colab": {
          "base_uri": "https://localhost:8080/"
        }
      },
      "id": "SekgxnIxIzf3",
      "execution_count": 6,
      "outputs": [
        {
          "output_type": "execute_result",
          "data": {
            "text/plain": [
              "0"
            ]
          },
          "metadata": {},
          "execution_count": 6
        }
      ]
    },
    {
      "cell_type": "code",
      "source": [
        "def drop_missing_rows(cars):\n",
        "    return cars.dropna()"
      ],
      "metadata": {
        "id": "FSZxfcUNJBxj"
      },
      "id": "FSZxfcUNJBxj",
      "execution_count": 7,
      "outputs": []
    },
    {
      "cell_type": "code",
      "source": [
        "cars['No_of_Owners'] = cars['No_of_Owners'].replace({'1st': 1, '2nd': 2})"
      ],
      "metadata": {
        "id": "PBIzWncHI2h5"
      },
      "id": "PBIzWncHI2h5",
      "execution_count": 8,
      "outputs": []
    },
    {
      "cell_type": "code",
      "source": [
        "cars['Age'] = 2023 - cars['Make_Year']"
      ],
      "metadata": {
        "id": "Cu2N7SxFXOaq"
      },
      "id": "Cu2N7SxFXOaq",
      "execution_count": 9,
      "outputs": []
    },
    {
      "cell_type": "code",
      "source": [
        "cars['Price'] = (cars['Price']) / 100.0"
      ],
      "metadata": {
        "id": "QFoAC8OMdhYi"
      },
      "id": "QFoAC8OMdhYi",
      "execution_count": 10,
      "outputs": []
    },
    {
      "cell_type": "code",
      "source": [
        "print(cars.head)"
      ],
      "metadata": {
        "colab": {
          "base_uri": "https://localhost:8080/"
        },
        "id": "OvInFozglLXR",
        "outputId": "3f24aa6b-3a64-4c59-8b7c-8d2d62fd0dcf"
      },
      "id": "OvInFozglLXR",
      "execution_count": 11,
      "outputs": [
        {
          "output_type": "stream",
          "name": "stdout",
          "text": [
            "<bound method NDFrame.head of      Unnamed: 0           Make  Make_Year   Color  Body_Type  Mileage_Run  \\\n",
            "0             1     Volkswagen       2017  silver      sedan        44611   \n",
            "1             2        Hyundai       2016     red  crossover        20305   \n",
            "2             3          Honda       2019   white        suv        29540   \n",
            "3             4        Renault       2017  bronze  hatchback        35680   \n",
            "4             5        Hyundai       2017  orange  hatchback        25126   \n",
            "..          ...            ...        ...     ...        ...          ...   \n",
            "971         972        Hyundai       2018   white      sedan        23869   \n",
            "972         973        Hyundai       2019   white      sedan        14831   \n",
            "973         974        Hyundai       2014  silver      sedan        52846   \n",
            "974         975           Ford       2020   white  crossover        28335   \n",
            "975         976  Maruti Suzuki       2018  silver  hatchback        41176   \n",
            "\n",
            "    No_of_Owners  Seating_Capacity Fuel_Type Transmission Transmission_Type  \\\n",
            "0              1                 5    diesel      7-Speed         Automatic   \n",
            "1              1                 5    petrol      5-Speed            Manual   \n",
            "2              2                 5    petrol      5-Speed            Manual   \n",
            "3              1                 5    petrol      5-Speed            Manual   \n",
            "4              1                 5    petrol      5-Speed            Manual   \n",
            "..           ...               ...       ...          ...               ...   \n",
            "971            1                 5    petrol      6-Speed         Automatic   \n",
            "972            1                 5    petrol      6-Speed         Automatic   \n",
            "973            1                 5    petrol      4-Speed         Automatic   \n",
            "974            2                 5    diesel      5-Speed         Automatic   \n",
            "975            1                 5    petrol      5-Speed         Automatic   \n",
            "\n",
            "       Price  Age  \n",
            "0     6570.0    6  \n",
            "1     6820.0    7  \n",
            "2     7930.0    4  \n",
            "3     4140.0    6  \n",
            "4     5150.0    6  \n",
            "..       ...  ...  \n",
            "971   9560.0    5  \n",
            "972  10270.0    4  \n",
            "973   7360.0    9  \n",
            "974   7490.0    3  \n",
            "975   6910.0    5  \n",
            "\n",
            "[976 rows x 13 columns]>\n"
          ]
        }
      ]
    },
    {
      "cell_type": "markdown",
      "source": [
        "**Question 1.2**"
      ],
      "metadata": {
        "id": "o6IVYmPagEsI"
      },
      "id": "o6IVYmPagEsI"
    },
    {
      "cell_type": "code",
      "source": [
        "price_summary = cars.groupby('Make')['Price'].describe()\n",
        "\n",
        "for make, data in cars.groupby('Make'):\n",
        "    sns.kdeplot(data['Price'], label=make, fill=True)\n",
        "\n",
        "plt.title('Kernel Density Plot of Prices by Make')\n",
        "plt.xlabel('Price')\n",
        "plt.ylabel('Density')\n",
        "plt.legend(title='Make')\n",
        "\n",
        "\n",
        "plt.show()\n",
        "print(price_summary)"
      ],
      "metadata": {
        "colab": {
          "base_uri": "https://localhost:8080/",
          "height": 1000
        },
        "id": "kxbgWegKgGVw",
        "outputId": "78c71954-fc69-4be2-94e6-5fbe47a08966"
      },
      "id": "kxbgWegKgGVw",
      "execution_count": 12,
      "outputs": [
        {
          "output_type": "display_data",
          "data": {
            "text/plain": [
              "<Figure size 640x480 with 1 Axes>"
            ],
            "image/png": "[encoded data removed]"
          },
          "metadata": {}
        },
        {
          "output_type": "stream",
          "name": "stdout",
          "text": [
            "               count          mean           std      min      25%      50%  \\\n",
            "Make                                                                          \n",
            "Chevrolet        6.0   4535.000000   2466.063665   2670.0   2885.0   3455.0   \n",
            "Datsun           3.0   2896.666667    105.039675   2790.0   2845.0   2900.0   \n",
            "Ford            52.0   7211.730769   1409.276996   2900.0   6350.0   7075.0   \n",
            "Honda           73.0   7989.726027   2665.090666   3160.0   5810.0   7850.0   \n",
            "Hyundai        305.0   6918.918033   2791.597085   2480.0   4850.0   6380.0   \n",
            "Jeep             4.0  14995.000000   1525.133874  12900.0  14475.0  15295.0   \n",
            "Kia              8.0  16147.500000   1190.567092  13690.0  15790.0  16285.0   \n",
            "MG Motors       35.0  18694.571429   1216.611357  15890.0  17865.0  18480.0   \n",
            "Mahindra        18.0  11001.666667   1755.493060   7960.0  10370.0  10945.0   \n",
            "Maruti Suzuki  293.0   5887.849829   2160.198609   2370.0   4110.0   5270.0   \n",
            "Nissan           4.0   8842.500000   2895.598672   4750.0   7825.0   9780.0   \n",
            "Renault         68.0   6625.735294   2148.273389   2870.0   4750.0   6440.0   \n",
            "Skoda            5.0  11360.000000  10701.749857   4360.0   4660.0   5380.0   \n",
            "Tata            23.0  10552.173913   5578.305344   1880.0   7795.0   8690.0   \n",
            "Toyota          50.0   8003.400000   2466.899740   3680.0   5262.5   8940.0   \n",
            "Volkswagen      29.0   6058.275862   1198.311517   4020.0   5420.0   6070.0   \n",
            "\n",
            "                   75%      max  \n",
            "Make                             \n",
            "Chevrolet       5375.0   8920.0  \n",
            "Datsun          2950.0   3000.0  \n",
            "Ford            7870.0  10660.0  \n",
            "Honda           9150.0  15370.0  \n",
            "Hyundai         8370.0  17420.0  \n",
            "Jeep           15815.0  16490.0  \n",
            "Kia            17057.5  17410.0  \n",
            "MG Motors      19780.0  20190.0  \n",
            "Mahindra       11570.0  14650.0  \n",
            "Maruti Suzuki   7640.0  11630.0  \n",
            "Nissan         10797.5  11060.0  \n",
            "Renault         8010.0  11640.0  \n",
            "Skoda          12990.0  29410.0  \n",
            "Tata           15520.0  21000.0  \n",
            "Toyota         10230.0  10920.0  \n",
            "Volkswagen      6990.0   7900.0  \n"
          ]
        }
      ]
    },
    {
      "cell_type": "markdown",
      "source": [
        "MG Motors has the highest mean price and also the highest overall price at 20,190. Jeep and Kia are the next two highest priced cars. A majority of cars are grouped around 10,000 with two major humps coming just before 10,000 and another major hump coming around 15,000."
      ],
      "metadata": {
        "id": "e1SSqxfwm8bG"
      },
      "id": "e1SSqxfwm8bG"
    },
    {
      "cell_type": "markdown",
      "source": [
        "**Question 1.3**"
      ],
      "metadata": {
        "id": "a9qJNDX4npPv"
      },
      "id": "a9qJNDX4npPv"
    },
    {
      "cell_type": "code",
      "source": [
        "from sklearn.model_selection import train_test_split\n",
        "\n",
        "X = cars.drop('Price', axis=1)\n",
        "y = cars['Price']\n",
        "\n",
        "random_state = 100\n",
        "\n",
        "X_train, X_test, y_train, y_test = train_test_split(X, y, test_size=0.2, random_state=random_state)"
      ],
      "metadata": {
        "id": "IWxgrpLFnr9_"
      },
      "id": "IWxgrpLFnr9_",
      "execution_count": 13,
      "outputs": []
    },
    {
      "cell_type": "markdown",
      "source": [
        "**Question 1.4**"
      ],
      "metadata": {
        "id": "AjTa_J6iOpAp"
      },
      "id": "AjTa_J6iOpAp"
    },
    {
      "cell_type": "code",
      "source": [
        "from sklearn.linear_model import LinearRegression\n",
        "\n",
        "vars = ['Age', 'Mileage_Run', 'Seating_Capacity']\n",
        "X = cars.loc[:,vars]\n",
        "\n",
        "reg = LinearRegression().fit(X, y) # Fit the linear model\n",
        "print((reg.intercept_)) # Intercept value\n",
        "print((reg.coef_)) # Regression coefficients\n",
        "print((reg.score(X, y))) # R squared measure\n",
        "\n",
        "\n",
        "X_train = X_train.loc[:, vars]\n",
        "X_test = X_test.loc[:, vars]\n",
        "\n",
        "reg = LinearRegression().fit(X_train, y_train)\n",
        "\n",
        "y_pred = reg.predict(X_test)\n",
        "\n",
        "r2 = reg.score(X_test, y_test)\n",
        "print('R squared on test set:', r2)\n",
        "\n",
        "rmse = ((1-r2) * (y_test.var()))**0.5\n",
        "print('RMSE on test set:', rmse)\n"
      ],
      "metadata": {
        "colab": {
          "base_uri": "https://localhost:8080/"
        },
        "id": "vf7SxOnmOq2d",
        "outputId": "186aa04e-37ab-4704-db85-c80614aeb0c7"
      },
      "id": "vf7SxOnmOq2d",
      "execution_count": 15,
      "outputs": [
        {
          "output_type": "stream",
          "name": "stdout",
          "text": [
            "8373.064360682496\n",
            "[-8.43534793e+02  3.05441294e-02  5.61243584e+02]\n",
            "0.312410633717638\n",
            "R squared on test set: 0.324516732341919\n",
            "RMSE on test set: 3053.288635431482\n"
          ]
        }
      ]
    },
    {
      "cell_type": "code",
      "source": [
        "vars2 = ['Fuel_Type', 'No_of_Owners', 'Transmission_Type']\n",
        "\n",
        "dummy = pd.DataFrame([])\n",
        "for i in vars2:\n",
        "    vars_dummy = pd.get_dummies(cars.loc[:, i], drop_first=True, dtype=int)\n",
        "    dummy = pd.concat([dummy, vars_dummy], axis=1, ignore_index=True)\n",
        "\n",
        "\n",
        "y = cars['Price']\n",
        "X = dummy\n",
        "\n",
        "\n",
        "X_train_c, X_test_c, y_train, y_test = train_test_split(X, y, test_size=0.2, random_state=100)\n",
        "\n",
        "reg_c = LinearRegression().fit(X_train_c, y_train)\n",
        "y_hat_c = reg_c.predict(X_test_c)\n",
        "\n",
        "\n",
        "r2_c = reg_c.score(X_test_c, y_test)\n",
        "print('Categorical only Rsq:', r2_c)\n",
        "\n",
        "\n",
        "rmse_c = np.sqrt(np.mean((y_test - y_hat_c) ** 2))\n",
        "print('Categorical only RMSE:', rmse_c)\n",
        "\n"
      ],
      "metadata": {
        "colab": {
          "base_uri": "https://localhost:8080/"
        },
        "id": "0Lo1q3SYie9J",
        "outputId": "24176712-3513-4c83-d198-5e4da85705ef"
      },
      "id": "0Lo1q3SYie9J",
      "execution_count": 17,
      "outputs": [
        {
          "output_type": "stream",
          "name": "stdout",
          "text": [
            "Categorical only Rsq: 0.28797980892512676\n",
            "Categorical only RMSE: 3126.770371832773\n"
          ]
        }
      ]
    },
    {
      "cell_type": "markdown",
      "id": "25bf83c6-ff44-42d6-9b33-8be1b945860d",
      "metadata": {
        "id": "25bf83c6-ff44-42d6-9b33-8be1b945860d"
      },
      "source": [
        "**Q2.** The is a question about regression using decision trees and linear models. The data include wages at data science-y jobs, including\n",
        "\n",
        "  - `Rating`: Company worker happiness score\n",
        "  - `Size`: Number of employees\n",
        "  - `Sector`: Part of the economy\n",
        "  - `avg_salary`: Average wage\n",
        "  - `job_state`: Location of work\n",
        "\n",
        "  1. Load the `wages_hw.csv` file. Split the sample into an ~80% training set and a ~20% test set. Do any necessary cleaning, including outliers and missings.\n",
        "  2. Use a linear model to regress `avg_salary` on `Sector`. Which sectors have the highest predicted wages? What is the $R^2$ and `RMSE` on the test set?\n",
        "  3. Make a scatterplot of `avg_salary` and `Rating`. Is there an obvious visual relationship between the two variables? Regress `avg_salary` on `Rating` as a numeric variable: Do higher ratings predict higher or lower wages? Convert `Rating` to a one-hot encoded variable, with a category for each rating. Run a regression of `avg_salary` on the categorical version. How do your results change? Explain. Which version has a higher $R^2$ and lower `RMSE`?\n",
        "  4. Now interact `Sector` with the categorical version of `Rating`, so your regressors are a (Sector, Rating) pair; this is a programming puzzle you'll have to think about, but using the `.PolynomialFeatures()` function on the one-hot encoded categorical variables is one option, and another is pre-processing a new variable that interacts `Sector` and `Rating` and then one-hot encoding the result. Regress `avg_salary` on the (Sector, Rating) pairs. How does the $R^2$ and `RMSE` on the test set compare to part 2? Interpret the coefficients; which sector-rating pairs have the highest wages?\n",
        "  5. Run a linear regression of `avg_salary` on all the variables. What is the $R^2$ on the test set? How does it compare to your simpler models in 2--4?\n",
        "  6. Build a decision tree by regressing `avg_salary` on `Sector`, `Rating`, and the (Sector, Rating) pairs. What are the $R^2$ and `RMSE` of your models on the test set? How do your answers compare to parts 2, 3, and 4?\n",
        "  7. Build a decision tree by regressing `avg_salary` on all the other variables. What is the $R^2$ and `RMSE` on the test set?\n",
        "  8. Build a linear regression or decision tree using the available variables based on your own judgment. What degrees of freedom are you giving the model to predict variation in wages across company and location attributes? What is the $R^2$ and `RMSE` of your model? How does it compare to the previous ones in the question? Why does yours perform better or worse on the test set?"
      ]
    },
    {
      "cell_type": "markdown",
      "id": "409519b9-e803-4a95-aded-d6eabf6bc526",
      "metadata": {
        "id": "409519b9-e803-4a95-aded-d6eabf6bc526"
      },
      "source": [
        "**Q3.** This a question purely on categorical prediction. The data for this happen to be gathered in 1987 in Indonesia, and concern contraceptive method choice. The questions and data-gathering assumptions reflect the culture and attitudes of that time and place, but provide a good example of a categorical prediction problem on an important topic (family planning and maternal health The variables in the data are:\n",
        "\n",
        "    - Wife's age (numerical)\n",
        "    - Wife's education (categorical) 1=low, 2, 3, 4=high\n",
        "    - Husband's education (categorical) 1=low, 2, 3, 4=high\n",
        "    - Number of children ever born (numerical)\n",
        "    - Wife's religion (binary) 0=Non-Islam, 1=Islam\n",
        "    - Wife's now working? (binary) 0=Yes, 1=No\n",
        "    - Husband's occupation (categorical) 1, 2, 3, 4\n",
        "    - Standard-of-living index (categorical) 1=low, 2, 3, 4=high\n",
        "    - Media exposure (binary) 0=Good, 1=Not good\n",
        "    - Contraceptive method used (class attribute) 1=No-use, 2=Long-term, 3=Short-termhort-term\n",
        "\n",
        "  1. Load the `contraceptiveMethodChoice.csv` data. Tabulate the `method` variable (i.e. `.value_counts()`). 1 corresponds to `No Contraception`, 3 corresponds to `Short Term` (e.g. condoms, birth control pills), and 2 corresponds to `Long Term` (e.g. IUD, sterilization). Cross tabulate `method` and `numberChildren`. Do couples that use birth control tend to have more children than those who don't?\n",
        "  2. Split the sample into ~80% training data and ~20% testing data.\n",
        "  3. We are now going to make a mistake. Train a regression tree to predict the contraceptive method using the other variables in the data, not a classification tree. Look at the terminal nodes in the tree: What values do they take? Does that make sense? Explain clearly what has gone wrong here.\n",
        "  4. Instead of regression, use a classification tree to predict contraceptive method using the other variables in the data. How does it look different from the previous tree? What variables does the algorithm use? In broad terms, which groups of people are most likely to use each method of contraception?\n",
        "  5. Compute a confusion matrix for your classification tree on the test set (Hint: There are now three categories instead of two, so the cross tabulation will be a $3 \\times 3$ matrix instead of $2 \\times 2$.). Compute the Accuracy of your model overall, and the Accuracy for predicting each contraceptive method.\n",
        "  7. Why can't you use a linear probability model to do this exercise? Explain clearly in words."
      ]
    },
    {
      "cell_type": "markdown",
      "id": "7bd15c6b-4c7c-4230-a199-e03e1054ec6a",
      "metadata": {
        "id": "7bd15c6b-4c7c-4230-a199-e03e1054ec6a"
      },
      "source": [
        "**Q4.** This is a question where we use regression and regression trees. The outcome is whether a defendant is held pre-trial in the Virginia justice system. We would like to understand how that outcome is predicted by characteristics of the defendant, particularly race. Let's be very careful/clear: We aren't saying anyone *should* be held without bond or asserting that people with different demographic variables *should* be more likely to be held, but instead trying to predict whether people with different characteristics *are empirically more likely* to be held without bond, given the available information. This is the first step we would take in investigating whether a system is fair, or how large the disparities are: Does it treat people with similar observable characteristics similarly, or not? We are going to look at a common question: Are Black defendants treated differently from white or Asian ones? (There are Native American defendants, but there are 11 in total, which is such a small number of observations that is difficult to clearly say anything about how this group is treated relative to the others.)\n",
        "\n",
        "The variables in the data are:\n",
        "\n",
        "  - `held_wo_bail`: Whether a defendant is held without bail before trial (Boolean logical)\n",
        "  - `race`, `sex`: Categorical demographic variables\n",
        "  - `is_poor`: Whether the defendant is classified as indigent\n",
        "  - `prior_F`, `prior_M`: The number of prior felony and misdemeanor arrests\n",
        "  - `case_type`: A categorical variable indicating a misdemeanor `M` or felony `F` or infraction `I` or special case `S`\n",
        "  - `age`: Defendant's age\n",
        "  - `bond`, `bond_NA`, `bond_type`: The amount of any bond, whether it is missing, and the type\n",
        "  - `sentence`, `sentence_NA`, `sentence_type`: The length of any sentence, whether it is missing, and the type\n",
        "\n",
        "1. Load the `pretrial_data.csv` data. Notice that there are `nan`s, but the data are relatively clean. Because there are `.nan`s among variables you won't use, you'll want to narrow down your analysis to the relevant variables before dropping or imputing missing values.\n",
        "2. Create a dummy variable indicating that the defendant is Black.\n",
        "3. Regress `held` on `Black`. What is the slope coefficient Interpret the coefficient on the Black dummy variable: How much more likely is a black person to be held without bail? What is the $R^2$ of the model?\n",
        "4. Before doing this question, please think for a few minutes about how to make the process of running these regressions as efficient as possible, before jumping into writing code. Repeat part 2, for the following specifications, keeping track of the coefficient on the Black dummy variable each time:\n",
        "      - `held` on `Black` and `sex`\n",
        "      - `held` on `Black` and `sex` and `is_poor`\n",
        "      - `held` on `Black` and `sex` and `is_poor` and `prior_F`\n",
        "      - `held` on `Black` and `sex` and `is_poor` and `prior_F` and `case_type`\n",
        "What happens to the coefficient on the Black dummy variable as you include more regressors/features/controls in the regression? Explain your findings.\n",
        "5. Suppose we don't want to see just `Black` and `sex`, but `Black` interacted with `sex`: Are Black men and Black women treated systemically differently from the rest of the population? Implement this in a regression, and explain your findings.\n",
        "6. Imagine someone argued we should use these kinds of models to help a judge or magistrate make bail decisions (you could obviously go back and make this kind of model for the bond and sentence variables, then deploy it on new cases to predict what their bond and sentence values would be). What concerns would you have? Do you think society should be using data-driven and automated tools like that? Explain your concerns clearly."
      ]
    },
    {
      "cell_type": "markdown",
      "id": "d0bedb79-b3d9-4db3-9b30-b92c9b618cec",
      "metadata": {
        "id": "d0bedb79-b3d9-4db3-9b30-b92c9b618cec"
      },
      "source": [
        "**Q5.** This is a math question to review the derivation of the OLS estimator (but only if you are into that kind of thing!). We are going to do it slightly differently from what we did in class, though. We will use a linear predictor and minimize the Sum of Squared Errors, just as in class. But, we are going to de-mean $X$ first, creating another variable $z_i = x_i - \\bar{x}$ where\n",
        "$$\n",
        "\\bar{x} = \\dfrac{1}{N} \\sum_{i=1}^N x_i,\n",
        "$$\n",
        "so the model is $\\hat{y}_i = a + b z_i$ and the `SSE` is\n",
        "$$\n",
        "\\text{SSE}(a,b) = \\sum_{i=1}^N (y_i - a - bz_i)^2.\n",
        "$$\n",
        "\n",
        "  1. Take partial derivatives of the `SSE` with respect to $a$ and $b$. You should get\n",
        "\n",
        "\\begin{eqnarray*}\n",
        "\\sum_{i=1}^N -2(y_i - a- bz_i) &=& 0 \\\\\n",
        "\\sum_{i=1}^N -2(y_i - a - bz_i)z_i &=& 0.\n",
        "\\end{eqnarray*}\n",
        "\n",
        "  2. Solve for the solutions to the above equations. Big hint: $\\bar{z} = 0$, since we subtracted the mean of $x$ from $x$ to get $z$. You should get\n",
        "\n",
        "\\begin{eqnarray*}\n",
        "a^* &=& \\bar{y} \\\\\n",
        "b^* &=& \\dfrac{\\sum_{i=1}^N(y_i - \\bar{y})z_i}{\\sum_{i=1}^N z_i^2}.\n",
        "\\end{eqnarray*}\n",
        "\n",
        "  3. Substitute $z_i = x_i - \\bar{x}$ back into the above equations. You should get\n",
        "  \n",
        "\\begin{eqnarray*}\n",
        "a^* &=& \\bar{y} \\\\\n",
        "b^* &=& \\dfrac{\\sum_{i=1}^N(y_i - \\bar{y})(x_i-\\bar{x})}{\\sum_{i=1}^N (x_i-\\bar{x})^2},\n",
        "\\end{eqnarray*}\n",
        "\n",
        "which can be written in terms of sample covariance and sample variance as:\n",
        "\n",
        "\\begin{eqnarray*}\n",
        "a^* &=& \\bar{y} \\\\\n",
        "b^* &=& \\dfrac{\\text{cov}(x,y)}{\\text{var}(x)}.\n",
        "\\end{eqnarray*}\n",
        "\n",
        "This is typically the preferred way of expressing the OLS coefficients.\n",
        "\n",
        "4. When will $b^*$ be large or small, depending on the relationship between $x$ and $y$ and the amount of \"noise\"/variance in $x$? What does $a^*$ represent?\n",
        "5. Suppose you have measurement error in $x$ which artificially inflates its variance (e.g. bad data cleaning). What happens to the $b^*$ coefficient? How will affect your ability to predict? (This phenomenon is called **attenuation**.)\n",
        "6. Let's return to the question of *outliers*. With your formula for the OLS coefficients $(a^*,b^*)$, explain what happens if you significantly increase a single value of the outcome/target/response variable $y_i$ or one of the predictor/explanatory/covariate variables $x_i$. If values for some extreme observations are exerting significant influence over the regression coefficients, will the model perform well on for more average observations?"
      ]
    }
  ],
  "metadata": {
    "kernelspec": {
      "display_name": "Python 3 (ipykernel)",
      "language": "python",
      "name": "python3"
    },
    "language_info": {
      "codemirror_mode": {
        "name": "ipython",
        "version": 3
      },
      "file_extension": ".py",
      "mimetype": "text/x-python",
      "name": "python",
      "nbconvert_exporter": "python",
      "pygments_lexer": "ipython3",
      "version": "3.11.4"
    },
    "colab": {
      "provenance": []
    }
  },
  "nbformat": 4,
  "nbformat_minor": 5
}